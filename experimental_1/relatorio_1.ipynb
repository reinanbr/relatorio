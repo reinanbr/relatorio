{
  "nbformat": 4,
  "nbformat_minor": 0,
  "metadata": {
    "colab": {
      "provenance": []
    },
    "kernelspec": {
      "name": "python3",
      "display_name": "Python 3"
    },
    "language_info": {
      "name": "python"
    }
  },
  "cells": [
    {
      "cell_type": "markdown",
      "source": [
        "# trabalho de dados exp 1 - A PRENSA HIDRÁULICA - APLICAÇÃO DO PRINCÍPIO DE PASCAL\n",
        "\n",
        "\n",
        "<hr>\n",
        "\n",
        "<br>\n",
        "\n",
        "  "
      ],
      "metadata": {
        "id": "osTe6uv8_aCd"
      }
    },
    {
      "cell_type": "code",
      "source": [
        "# importando a biblioteca que vai trabalhar com funções estatisticas\n",
        "import statistics as sts \n",
        "# importando a lib que vai trabalhar basicamente com as listas e vetores\n",
        "import numpy as np\n",
        "# importando a lib para a produção de tabelas e dataFrames\n",
        "import pandas as pd\n",
        "# importando a lib para a produção de gráficos\n",
        "import matplotlib.pyplot as plt\n",
        "\n"
      ],
      "metadata": {
        "id": "pSuOTLXgDzR3"
      },
      "execution_count": 1,
      "outputs": []
    },
    {
      "cell_type": "markdown",
      "source": [
        "## 4.2"
      ],
      "metadata": {
        "id": "8UeQJmGdD2e2"
      }
    },
    {
      "cell_type": "code",
      "source": [
        "# lista de diametros medidos no pistão 1 em (mm)\n",
        "medidas_pist_1 = [18.1,17.9,18.5]\n",
        "\n",
        "#desvio padrão das medidas no pistão 1\n",
        "desv_pist_1 = sts.stdev(medidas_pist_1)\n",
        "media_medidas_1 = sts.median(medidas_pist_1)\n",
        "print(fr'medidas do diametro feitas no pistão 1: {media_medidas_1:.2f} +- {desv_pist_1:.3f} mm')\n"
      ],
      "metadata": {
        "colab": {
          "base_uri": "https://localhost:8080/"
        },
        "id": "6s7rM8dmBZMF",
        "outputId": "8d142bc6-ecb3-4bf5-9019-8fe1e9d8efee"
      },
      "execution_count": 2,
      "outputs": [
        {
          "output_type": "stream",
          "name": "stdout",
          "text": [
            "medidas do diametro feitas no pistão 1: 18.10 +- 0.306 mm\n"
          ]
        }
      ]
    },
    {
      "cell_type": "code",
      "source": [
        "# lista de diametros medidos no pistão 2 em (mm)\n",
        "medidas_pist_2 = [23.9,23.8,23.5]\n",
        "\n",
        "#desvio padrão das medidas no pistão 2\n",
        "desv_pist_2 = sts.stdev(medidas_pist_2)\n",
        "media_medidas_2 = sts.median(medidas_pist_2)\n",
        "print(fr'medidas do diametro feitas no pistão 2: {media_medidas_2:.2f} +- {desv_pist_2:.3f} mm')\n"
      ],
      "metadata": {
        "colab": {
          "base_uri": "https://localhost:8080/"
        },
        "id": "VHYZS11DGeou",
        "outputId": "28068ba1-c28f-4369-d31b-f337267bceb5"
      },
      "execution_count": 3,
      "outputs": [
        {
          "output_type": "stream",
          "name": "stdout",
          "text": [
            "medidas do diametro feitas no pistão 2: 23.80 +- 0.208 mm\n"
          ]
        }
      ]
    },
    {
      "cell_type": "markdown",
      "source": [
        "para medir a propagação da incerteza da medida do diametro sobre o c area, devemos usar a forma clássica da propagação.\n",
        "<br>\n",
        "\n",
        "Seja $ F = F(x_1,x_2,\\dots,x_i)$, a soma total da propagação da incerteza de medida de cada $x_i$, vai ser dada por\n",
        "\n",
        "\n",
        "$$ \\Delta_E = \\sqrt{\\sum_{i=1}^{n}(\\partial_{x_i}F)^2(\\delta_{x_i})^2}  $$ \n",
        "\n",
        "<br>\n",
        "\n",
        "Se a equação da àrea é dada por $ A(R) = \\pi R^2 $, relacionando $R$ com $D$ sendo que $D=2R$ então $R=D/2$, podemos ter a equação da àrea no seguinte formato de\n",
        "\n",
        " $$A(D) =\\pi \\frac{D^2}{4}$$\n",
        "\n",
        " assim\n",
        "\n",
        " $$ \\nabla A(D) = \\partial_D \\left[ \\pi\\frac{D^2}{4} \\right] = \\pi \\frac{D}{2} $$\n",
        "\n",
        " Com tudo isso, podemos então anotar a propagação de erro das medidas dos diametros no calculo da àrea por\n",
        "\n",
        " $$ \\Delta_E A = \\pi \\frac{D}{2}\\delta_D $$\n",
        "\n",
        " E com essa equação, iremos usar nos calculos abaixo no python"
      ],
      "metadata": {
        "id": "IZjuD0VLv9gi"
      }
    },
    {
      "cell_type": "code",
      "source": [
        "# medindo o raio com a propagação da incerteza\n",
        "\n",
        "# criando a função no python que representa a equação encontrada acima\n",
        "def error_a(diametro,desvio):\n",
        "  return np.pi*diametro*desvio*.5"
      ],
      "metadata": {
        "id": "0RKqyVlM0ES5"
      },
      "execution_count": 4,
      "outputs": []
    },
    {
      "cell_type": "code",
      "source": [
        "# aplicando sobre o pistão 1\n",
        "error_pistao1 = error_a(media_medidas_1,desv_pist_1)\n",
        "\n",
        "# aplicando sobre o pistão 2\n",
        "error_pistao2 = error_a(media_medidas_2,desv_pist_2)\n",
        "\n",
        "print(f'a propagação de incerteza da medida do diametro sobre o calculo da àrea do pistão 1 é {error_pistao1:.2f} mm^2')\n",
        "\n",
        "print(f'a propagação de incerteza da medida do diametro sobre o calculo da àrea do pistão 2 é {error_pistao2:.2f} mm^2')"
      ],
      "metadata": {
        "colab": {
          "base_uri": "https://localhost:8080/"
        },
        "id": "4qnWXw4g0eUo",
        "outputId": "fc649f4a-9c98-4b7c-a68d-d6fb64af540c"
      },
      "execution_count": 5,
      "outputs": [
        {
          "output_type": "stream",
          "name": "stdout",
          "text": [
            "a propagação de incerteza da medida do diametro sobre o calculo da àrea do pistão 1 é 8.69 mm^2\n",
            "a propagação de incerteza da medida do diametro sobre o calculo da àrea do pistão 2 é 7.78 mm^2\n"
          ]
        }
      ]
    },
    {
      "cell_type": "code",
      "source": [
        "# criando a tabela dos dados medidos\n",
        "\n",
        "\n",
        "\n",
        "\n",
        "dataframe_medidas = {'medidas':[1,2,3],\n",
        "             'diametro pistão 1':medidas_pist_1,\n",
        "             'diametro pistão 2':medidas_pist_2}\n",
        "medidas_pd = pd.DataFrame(dataframe_medidas)\n",
        "\n",
        "medidas_pd.head()"
      ],
      "metadata": {
        "colab": {
          "base_uri": "https://localhost:8080/",
          "height": 144
        },
        "id": "waDJ6VJx2ygQ",
        "outputId": "4f4065ff-81e2-4724-87f7-2c93632f18bf"
      },
      "execution_count": 6,
      "outputs": [
        {
          "output_type": "execute_result",
          "data": {
            "text/plain": [
              "   medidas  diametro pistão 1  diametro pistão 2\n",
              "0        1               18.1               23.9\n",
              "1        2               17.9               23.8\n",
              "2        3               18.5               23.5"
            ],
            "text/html": [
              "\n",
              "  <div id=\"df-dcdc1358-9554-44eb-83ec-d33c33e218fc\">\n",
              "    <div class=\"colab-df-container\">\n",
              "      <div>\n",
              "<style scoped>\n",
              "    .dataframe tbody tr th:only-of-type {\n",
              "        vertical-align: middle;\n",
              "    }\n",
              "\n",
              "    .dataframe tbody tr th {\n",
              "        vertical-align: top;\n",
              "    }\n",
              "\n",
              "    .dataframe thead th {\n",
              "        text-align: right;\n",
              "    }\n",
              "</style>\n",
              "<table border=\"1\" class=\"dataframe\">\n",
              "  <thead>\n",
              "    <tr style=\"text-align: right;\">\n",
              "      <th></th>\n",
              "      <th>medidas</th>\n",
              "      <th>diametro pistão 1</th>\n",
              "      <th>diametro pistão 2</th>\n",
              "    </tr>\n",
              "  </thead>\n",
              "  <tbody>\n",
              "    <tr>\n",
              "      <th>0</th>\n",
              "      <td>1</td>\n",
              "      <td>18.1</td>\n",
              "      <td>23.9</td>\n",
              "    </tr>\n",
              "    <tr>\n",
              "      <th>1</th>\n",
              "      <td>2</td>\n",
              "      <td>17.9</td>\n",
              "      <td>23.8</td>\n",
              "    </tr>\n",
              "    <tr>\n",
              "      <th>2</th>\n",
              "      <td>3</td>\n",
              "      <td>18.5</td>\n",
              "      <td>23.5</td>\n",
              "    </tr>\n",
              "  </tbody>\n",
              "</table>\n",
              "</div>\n",
              "      <button class=\"colab-df-convert\" onclick=\"convertToInteractive('df-dcdc1358-9554-44eb-83ec-d33c33e218fc')\"\n",
              "              title=\"Convert this dataframe to an interactive table.\"\n",
              "              style=\"display:none;\">\n",
              "        \n",
              "  <svg xmlns=\"http://www.w3.org/2000/svg\" height=\"24px\"viewBox=\"0 0 24 24\"\n",
              "       width=\"24px\">\n",
              "    <path d=\"M0 0h24v24H0V0z\" fill=\"none\"/>\n",
              "    <path d=\"M18.56 5.44l.94 2.06.94-2.06 2.06-.94-2.06-.94-.94-2.06-.94 2.06-2.06.94zm-11 1L8.5 8.5l.94-2.06 2.06-.94-2.06-.94L8.5 2.5l-.94 2.06-2.06.94zm10 10l.94 2.06.94-2.06 2.06-.94-2.06-.94-.94-2.06-.94 2.06-2.06.94z\"/><path d=\"M17.41 7.96l-1.37-1.37c-.4-.4-.92-.59-1.43-.59-.52 0-1.04.2-1.43.59L10.3 9.45l-7.72 7.72c-.78.78-.78 2.05 0 2.83L4 21.41c.39.39.9.59 1.41.59.51 0 1.02-.2 1.41-.59l7.78-7.78 2.81-2.81c.8-.78.8-2.07 0-2.86zM5.41 20L4 18.59l7.72-7.72 1.47 1.35L5.41 20z\"/>\n",
              "  </svg>\n",
              "      </button>\n",
              "      \n",
              "  <style>\n",
              "    .colab-df-container {\n",
              "      display:flex;\n",
              "      flex-wrap:wrap;\n",
              "      gap: 12px;\n",
              "    }\n",
              "\n",
              "    .colab-df-convert {\n",
              "      background-color: #E8F0FE;\n",
              "      border: none;\n",
              "      border-radius: 50%;\n",
              "      cursor: pointer;\n",
              "      display: none;\n",
              "      fill: #1967D2;\n",
              "      height: 32px;\n",
              "      padding: 0 0 0 0;\n",
              "      width: 32px;\n",
              "    }\n",
              "\n",
              "    .colab-df-convert:hover {\n",
              "      background-color: #E2EBFA;\n",
              "      box-shadow: 0px 1px 2px rgba(60, 64, 67, 0.3), 0px 1px 3px 1px rgba(60, 64, 67, 0.15);\n",
              "      fill: #174EA6;\n",
              "    }\n",
              "\n",
              "    [theme=dark] .colab-df-convert {\n",
              "      background-color: #3B4455;\n",
              "      fill: #D2E3FC;\n",
              "    }\n",
              "\n",
              "    [theme=dark] .colab-df-convert:hover {\n",
              "      background-color: #434B5C;\n",
              "      box-shadow: 0px 1px 3px 1px rgba(0, 0, 0, 0.15);\n",
              "      filter: drop-shadow(0px 1px 2px rgba(0, 0, 0, 0.3));\n",
              "      fill: #FFFFFF;\n",
              "    }\n",
              "  </style>\n",
              "\n",
              "      <script>\n",
              "        const buttonEl =\n",
              "          document.querySelector('#df-dcdc1358-9554-44eb-83ec-d33c33e218fc button.colab-df-convert');\n",
              "        buttonEl.style.display =\n",
              "          google.colab.kernel.accessAllowed ? 'block' : 'none';\n",
              "\n",
              "        async function convertToInteractive(key) {\n",
              "          const element = document.querySelector('#df-dcdc1358-9554-44eb-83ec-d33c33e218fc');\n",
              "          const dataTable =\n",
              "            await google.colab.kernel.invokeFunction('convertToInteractive',\n",
              "                                                     [key], {});\n",
              "          if (!dataTable) return;\n",
              "\n",
              "          const docLinkHtml = 'Like what you see? Visit the ' +\n",
              "            '<a target=\"_blank\" href=https://colab.research.google.com/notebooks/data_table.ipynb>data table notebook</a>'\n",
              "            + ' to learn more about interactive tables.';\n",
              "          element.innerHTML = '';\n",
              "          dataTable['output_type'] = 'display_data';\n",
              "          await google.colab.output.renderOutput(dataTable, element);\n",
              "          const docLink = document.createElement('div');\n",
              "          docLink.innerHTML = docLinkHtml;\n",
              "          element.appendChild(docLink);\n",
              "        }\n",
              "      </script>\n",
              "    </div>\n",
              "  </div>\n",
              "  "
            ]
          },
          "metadata": {},
          "execution_count": 6
        }
      ]
    },
    {
      "cell_type": "code",
      "source": [
        "# criando a tabela com os resultados\n",
        "\n",
        "\n",
        "# calculando a area média de cada pistão\n",
        "area_pistao_1 = np.pi*(media_medidas_1)**2\n",
        "area_pistao_2 = np.pi*(media_medidas_2)**2\n",
        "\n",
        "\n",
        "dataframe_result = {'pistãos':['pistão 1','pistão 2'],\n",
        "                    'media das medidas do diametro':[media_medidas_1,media_medidas_2],\n",
        "                    'desvio padrão das medidas do diametro':[desv_pist_1,desv_pist_2],\n",
        "                    'àrea média das pistões':[area_pistao_1,area_pistao_2],\n",
        "                    'propagação de incerteza':[error_pistao1,error_pistao2]}\n",
        "\n",
        "results_pd = pd.DataFrame(dataframe_result)\n",
        "\n",
        "results_pd.head()"
      ],
      "metadata": {
        "colab": {
          "base_uri": "https://localhost:8080/",
          "height": 150
        },
        "id": "MSiaLPA238KI",
        "outputId": "0e0a7002-93d1-419d-d455-a09f7ea54559"
      },
      "execution_count": 7,
      "outputs": [
        {
          "output_type": "execute_result",
          "data": {
            "text/plain": [
              "    pistãos  media das medidas do diametro  \\\n",
              "0  pistão 1                           18.1   \n",
              "1  pistão 2                           23.8   \n",
              "\n",
              "   desvio padrão das medidas do diametro  àrea média das pistões  \\\n",
              "0                               0.305505             1029.217169   \n",
              "1                               0.208167             1779.523743   \n",
              "\n",
              "   propagação de incerteza  \n",
              "0                 8.685940  \n",
              "1                 7.782298  "
            ],
            "text/html": [
              "\n",
              "  <div id=\"df-b7c5164c-3aa2-4366-9c97-79f5f42c2924\">\n",
              "    <div class=\"colab-df-container\">\n",
              "      <div>\n",
              "<style scoped>\n",
              "    .dataframe tbody tr th:only-of-type {\n",
              "        vertical-align: middle;\n",
              "    }\n",
              "\n",
              "    .dataframe tbody tr th {\n",
              "        vertical-align: top;\n",
              "    }\n",
              "\n",
              "    .dataframe thead th {\n",
              "        text-align: right;\n",
              "    }\n",
              "</style>\n",
              "<table border=\"1\" class=\"dataframe\">\n",
              "  <thead>\n",
              "    <tr style=\"text-align: right;\">\n",
              "      <th></th>\n",
              "      <th>pistãos</th>\n",
              "      <th>media das medidas do diametro</th>\n",
              "      <th>desvio padrão das medidas do diametro</th>\n",
              "      <th>àrea média das pistões</th>\n",
              "      <th>propagação de incerteza</th>\n",
              "    </tr>\n",
              "  </thead>\n",
              "  <tbody>\n",
              "    <tr>\n",
              "      <th>0</th>\n",
              "      <td>pistão 1</td>\n",
              "      <td>18.1</td>\n",
              "      <td>0.305505</td>\n",
              "      <td>1029.217169</td>\n",
              "      <td>8.685940</td>\n",
              "    </tr>\n",
              "    <tr>\n",
              "      <th>1</th>\n",
              "      <td>pistão 2</td>\n",
              "      <td>23.8</td>\n",
              "      <td>0.208167</td>\n",
              "      <td>1779.523743</td>\n",
              "      <td>7.782298</td>\n",
              "    </tr>\n",
              "  </tbody>\n",
              "</table>\n",
              "</div>\n",
              "      <button class=\"colab-df-convert\" onclick=\"convertToInteractive('df-b7c5164c-3aa2-4366-9c97-79f5f42c2924')\"\n",
              "              title=\"Convert this dataframe to an interactive table.\"\n",
              "              style=\"display:none;\">\n",
              "        \n",
              "  <svg xmlns=\"http://www.w3.org/2000/svg\" height=\"24px\"viewBox=\"0 0 24 24\"\n",
              "       width=\"24px\">\n",
              "    <path d=\"M0 0h24v24H0V0z\" fill=\"none\"/>\n",
              "    <path d=\"M18.56 5.44l.94 2.06.94-2.06 2.06-.94-2.06-.94-.94-2.06-.94 2.06-2.06.94zm-11 1L8.5 8.5l.94-2.06 2.06-.94-2.06-.94L8.5 2.5l-.94 2.06-2.06.94zm10 10l.94 2.06.94-2.06 2.06-.94-2.06-.94-.94-2.06-.94 2.06-2.06.94z\"/><path d=\"M17.41 7.96l-1.37-1.37c-.4-.4-.92-.59-1.43-.59-.52 0-1.04.2-1.43.59L10.3 9.45l-7.72 7.72c-.78.78-.78 2.05 0 2.83L4 21.41c.39.39.9.59 1.41.59.51 0 1.02-.2 1.41-.59l7.78-7.78 2.81-2.81c.8-.78.8-2.07 0-2.86zM5.41 20L4 18.59l7.72-7.72 1.47 1.35L5.41 20z\"/>\n",
              "  </svg>\n",
              "      </button>\n",
              "      \n",
              "  <style>\n",
              "    .colab-df-container {\n",
              "      display:flex;\n",
              "      flex-wrap:wrap;\n",
              "      gap: 12px;\n",
              "    }\n",
              "\n",
              "    .colab-df-convert {\n",
              "      background-color: #E8F0FE;\n",
              "      border: none;\n",
              "      border-radius: 50%;\n",
              "      cursor: pointer;\n",
              "      display: none;\n",
              "      fill: #1967D2;\n",
              "      height: 32px;\n",
              "      padding: 0 0 0 0;\n",
              "      width: 32px;\n",
              "    }\n",
              "\n",
              "    .colab-df-convert:hover {\n",
              "      background-color: #E2EBFA;\n",
              "      box-shadow: 0px 1px 2px rgba(60, 64, 67, 0.3), 0px 1px 3px 1px rgba(60, 64, 67, 0.15);\n",
              "      fill: #174EA6;\n",
              "    }\n",
              "\n",
              "    [theme=dark] .colab-df-convert {\n",
              "      background-color: #3B4455;\n",
              "      fill: #D2E3FC;\n",
              "    }\n",
              "\n",
              "    [theme=dark] .colab-df-convert:hover {\n",
              "      background-color: #434B5C;\n",
              "      box-shadow: 0px 1px 3px 1px rgba(0, 0, 0, 0.15);\n",
              "      filter: drop-shadow(0px 1px 2px rgba(0, 0, 0, 0.3));\n",
              "      fill: #FFFFFF;\n",
              "    }\n",
              "  </style>\n",
              "\n",
              "      <script>\n",
              "        const buttonEl =\n",
              "          document.querySelector('#df-b7c5164c-3aa2-4366-9c97-79f5f42c2924 button.colab-df-convert');\n",
              "        buttonEl.style.display =\n",
              "          google.colab.kernel.accessAllowed ? 'block' : 'none';\n",
              "\n",
              "        async function convertToInteractive(key) {\n",
              "          const element = document.querySelector('#df-b7c5164c-3aa2-4366-9c97-79f5f42c2924');\n",
              "          const dataTable =\n",
              "            await google.colab.kernel.invokeFunction('convertToInteractive',\n",
              "                                                     [key], {});\n",
              "          if (!dataTable) return;\n",
              "\n",
              "          const docLinkHtml = 'Like what you see? Visit the ' +\n",
              "            '<a target=\"_blank\" href=https://colab.research.google.com/notebooks/data_table.ipynb>data table notebook</a>'\n",
              "            + ' to learn more about interactive tables.';\n",
              "          element.innerHTML = '';\n",
              "          dataTable['output_type'] = 'display_data';\n",
              "          await google.colab.output.renderOutput(dataTable, element);\n",
              "          const docLink = document.createElement('div');\n",
              "          docLink.innerHTML = docLinkHtml;\n",
              "          element.appendChild(docLink);\n",
              "        }\n",
              "      </script>\n",
              "    </div>\n",
              "  </div>\n",
              "  "
            ]
          },
          "metadata": {},
          "execution_count": 7
        }
      ]
    },
    {
      "cell_type": "markdown",
      "source": [
        "## 4.3\n"
      ],
      "metadata": {
        "id": "bRloKMpODMDU"
      }
    },
    {
      "cell_type": "markdown",
      "source": [
        "$$ trans(A_1,A_2) = \\frac{A_2}{A_1} $$\n",
        "$$ \\nabla trans(A_1,A_2) = \\frac{1}{A_1} - \\frac{A_2}{(A_{1})²  } $$\n",
        "\n",
        "logo\n",
        "\n",
        "$$ \\Delta trans = \\sqrt(\\frac{\\delta A_2}{A_1}-\\frac{A_2\\delta A_1}{(A_1)²}) $$"
      ],
      "metadata": {
        "id": "Zqkfr__NDtZG"
      }
    },
    {
      "cell_type": "code",
      "source": [
        "def error_trans(a1,a2,da1,da2):\n",
        "  term1 = da2/a1\n",
        "  term2 = a2*da1/(a1**2)\n",
        "\n",
        "  term1 = term1**2\n",
        "  tetm2 = term2**2\n",
        "\n",
        "  return (term1+term2)**.5"
      ],
      "metadata": {
        "id": "I5XCOAlxFhBe"
      },
      "execution_count": 14,
      "outputs": []
    },
    {
      "cell_type": "markdown",
      "source": [
        "## 4.4"
      ],
      "metadata": {
        "id": "lj84ZF7kcr44"
      }
    },
    {
      "cell_type": "code",
      "source": [
        "error_trans(area_pistao_1,area_pistao_2,error_pistao1,error_pistao2)"
      ],
      "metadata": {
        "colab": {
          "base_uri": "https://localhost:8080/"
        },
        "id": "KvBVltsWGjkK",
        "outputId": "333bb0d4-1703-4068-b68d-e4cbb7be0719"
      },
      "execution_count": 15,
      "outputs": [
        {
          "output_type": "execute_result",
          "data": {
            "text/plain": [
              "0.12103263029992713"
            ]
          },
          "metadata": {},
          "execution_count": 15
        }
      ]
    },
    {
      "cell_type": "code",
      "source": [
        "10*area_pistao_2/area_pistao_1"
      ],
      "metadata": {
        "colab": {
          "base_uri": "https://localhost:8080/"
        },
        "id": "1KmSlVXBIdI_",
        "outputId": "19c6910d-f783-454a-de52-2011073c688f"
      },
      "execution_count": 17,
      "outputs": [
        {
          "output_type": "execute_result",
          "data": {
            "text/plain": [
              "17.290070510668173"
            ]
          },
          "metadata": {},
          "execution_count": 17
        }
      ]
    },
    {
      "cell_type": "markdown",
      "source": [
        "## 4.9"
      ],
      "metadata": {
        "id": "HH7EsbFIcwOp"
      }
    },
    {
      "cell_type": "code",
      "source": [
        "p = 120 - 93.7\n",
        "p"
      ],
      "metadata": {
        "colab": {
          "base_uri": "https://localhost:8080/"
        },
        "id": "ZcgArVQSc6dc",
        "outputId": "b3a3f877-fdc7-42d0-93de-f7a43dccc3d1"
      },
      "execution_count": 18,
      "outputs": [
        {
          "output_type": "execute_result",
          "data": {
            "text/plain": [
              "26.299999999999997"
            ]
          },
          "metadata": {},
          "execution_count": 18
        }
      ]
    },
    {
      "cell_type": "markdown",
      "source": [
        "$$ F_1 = P*A_1 $$"
      ],
      "metadata": {
        "id": "H-MP_5zzmSnq"
      }
    },
    {
      "cell_type": "code",
      "source": [
        "f1 = area_pistao_1*p\n",
        "df1 = error_pistao1*p\n",
        "\n",
        "f1,df1"
      ],
      "metadata": {
        "colab": {
          "base_uri": "https://localhost:8080/"
        },
        "id": "4Qw05XU2na5u",
        "outputId": "4e67291d-c857-43b3-8122-d36563a69576"
      },
      "execution_count": 19,
      "outputs": [
        {
          "output_type": "execute_result",
          "data": {
            "text/plain": [
              "(27068.41155107912, 228.4402299724443)"
            ]
          },
          "metadata": {},
          "execution_count": 19
        }
      ]
    },
    {
      "cell_type": "code",
      "source": [
        "f2 = area_pistao_2*p\n",
        "df2 = error_pistao2*p\n",
        "\n",
        "f2,df2"
      ],
      "metadata": {
        "colab": {
          "base_uri": "https://localhost:8080/"
        },
        "id": "ixdaS1xdnrXR",
        "outputId": "d1a8e67f-133a-4ff4-a2bd-c8595b4d2b2a"
      },
      "execution_count": 20,
      "outputs": [
        {
          "output_type": "execute_result",
          "data": {
            "text/plain": [
              "(46801.474432994284, 204.67444968917536)"
            ]
          },
          "metadata": {},
          "execution_count": 20
        }
      ]
    },
    {
      "cell_type": "code",
      "source": [],
      "metadata": {
        "id": "VDiQ0dKJmNNc"
      },
      "execution_count": null,
      "outputs": []
    },
    {
      "cell_type": "markdown",
      "source": [
        "## 4.12"
      ],
      "metadata": {
        "id": "0EOTjnT1cyVI"
      }
    },
    {
      "cell_type": "code",
      "source": [
        "pi = [30.4,30.2,30]\n",
        "pf = [43,44.3,42.7]\n",
        "\n",
        "pim = sts.median(pi)\n",
        "pfm = sts.median(pf)\n",
        "\n",
        "pid = sts.stdev(pi)\n",
        "pfd = sts.stdev(pf)\n",
        "\n"
      ],
      "metadata": {
        "id": "40if3HtmsT3C"
      },
      "execution_count": 21,
      "outputs": []
    },
    {
      "cell_type": "code",
      "source": [
        "pim,pid"
      ],
      "metadata": {
        "colab": {
          "base_uri": "https://localhost:8080/"
        },
        "id": "hsJBac6Qs4zf",
        "outputId": "0ae3be70-b40b-4233-fa8a-c38e43607b9f"
      },
      "execution_count": 22,
      "outputs": [
        {
          "output_type": "execute_result",
          "data": {
            "text/plain": [
              "(30.2, 0.1999999999999993)"
            ]
          },
          "metadata": {},
          "execution_count": 22
        }
      ]
    },
    {
      "cell_type": "code",
      "source": [
        "pfm,pfd"
      ],
      "metadata": {
        "colab": {
          "base_uri": "https://localhost:8080/"
        },
        "id": "GFiNB2C-s84q",
        "outputId": "1880a945-b153-48a7-9af0-a03d40c52402"
      },
      "execution_count": 23,
      "outputs": [
        {
          "output_type": "execute_result",
          "data": {
            "text/plain": [
              "(43, 0.8504900548115356)"
            ]
          },
          "metadata": {},
          "execution_count": 23
        }
      ]
    }
  ]
}